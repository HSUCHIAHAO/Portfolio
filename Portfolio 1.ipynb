{
 "cells": [
  {
   "cell_type": "code",
   "execution_count": 1,
   "metadata": {},
   "outputs": [],
   "source": [
    "import pandas as pd\n",
    "import seaborn as sns\n",
    "from matplotlib import pyplot as plt\n",
    "from datetime import timedelta\n",
    "from pylab import rcParams\n",
    "from scipy.stats import pearsonr\n",
    "plt.style.use('seaborn')\n",
    "%matplotlib inline"
   ]
  },
  {
   "cell_type": "markdown",
   "metadata": {},
   "source": [
    "# Analysis of Cycling Data\n",
    "\n",
    "This data is about a log of cycling from a man, and time starting from 2018. \n",
    "He use the app called [Strava](https://strava.com/). The data contain like the distance, heart rate, temperature. Today, I will introduce my analysis about this data.\t\n",
    "\n",
    "## Loading Data\n",
    "\n",
    "The script can be seen in [the documentation for stravalib](https://pythonhosted.org/stravalib/api.html#stravalib.model.Activity). \n",
    "\n",
    "First, I read the first data in here."
   ]
  },
  {
   "cell_type": "code",
   "execution_count": 2,
   "metadata": {
    "scrolled": false,
    "slideshow": {
     "slide_type": "slide"
    }
   },
   "outputs": [
    {
     "data": {
      "text/html": [
       "<div>\n",
       "<style scoped>\n",
       "    .dataframe tbody tr th:only-of-type {\n",
       "        vertical-align: middle;\n",
       "    }\n",
       "\n",
       "    .dataframe tbody tr th {\n",
       "        vertical-align: top;\n",
       "    }\n",
       "\n",
       "    .dataframe thead th {\n",
       "        text-align: right;\n",
       "    }\n",
       "</style>\n",
       "<table border=\"1\" class=\"dataframe\">\n",
       "  <thead>\n",
       "    <tr style=\"text-align: right;\">\n",
       "      <th></th>\n",
       "      <th>average_heartrate</th>\n",
       "      <th>average_temp</th>\n",
       "      <th>average_watts</th>\n",
       "      <th>device_watts</th>\n",
       "      <th>distance</th>\n",
       "      <th>elapsed_time</th>\n",
       "      <th>elevation_gain</th>\n",
       "      <th>kudos</th>\n",
       "      <th>moving_time</th>\n",
       "      <th>workout_type</th>\n",
       "    </tr>\n",
       "    <tr>\n",
       "      <th>date</th>\n",
       "      <th></th>\n",
       "      <th></th>\n",
       "      <th></th>\n",
       "      <th></th>\n",
       "      <th></th>\n",
       "      <th></th>\n",
       "      <th></th>\n",
       "      <th></th>\n",
       "      <th></th>\n",
       "      <th></th>\n",
       "    </tr>\n",
       "  </thead>\n",
       "  <tbody>\n",
       "    <tr>\n",
       "      <th>2018-01-02 20:47:51+00:00</th>\n",
       "      <td>100.6</td>\n",
       "      <td>21.0</td>\n",
       "      <td>73.8</td>\n",
       "      <td>False</td>\n",
       "      <td>15.2</td>\n",
       "      <td>94</td>\n",
       "      <td>316.0</td>\n",
       "      <td>10</td>\n",
       "      <td>73</td>\n",
       "      <td>Ride</td>\n",
       "    </tr>\n",
       "    <tr>\n",
       "      <th>2018-01-04 01:36:53+00:00</th>\n",
       "      <td>NaN</td>\n",
       "      <td>24.0</td>\n",
       "      <td>131.7</td>\n",
       "      <td>False</td>\n",
       "      <td>18.0</td>\n",
       "      <td>52</td>\n",
       "      <td>236.0</td>\n",
       "      <td>5</td>\n",
       "      <td>46</td>\n",
       "      <td>Ride</td>\n",
       "    </tr>\n",
       "    <tr>\n",
       "      <th>2018-01-04 02:56:00+00:00</th>\n",
       "      <td>83.1</td>\n",
       "      <td>25.0</td>\n",
       "      <td>13.8</td>\n",
       "      <td>False</td>\n",
       "      <td>0.0</td>\n",
       "      <td>3</td>\n",
       "      <td>0.0</td>\n",
       "      <td>2</td>\n",
       "      <td>2</td>\n",
       "      <td>Ride</td>\n",
       "    </tr>\n",
       "    <tr>\n",
       "      <th>2018-01-04 05:37:04+00:00</th>\n",
       "      <td>110.1</td>\n",
       "      <td>24.0</td>\n",
       "      <td>113.6</td>\n",
       "      <td>False</td>\n",
       "      <td>22.9</td>\n",
       "      <td>77</td>\n",
       "      <td>246.0</td>\n",
       "      <td>8</td>\n",
       "      <td>64</td>\n",
       "      <td>Ride</td>\n",
       "    </tr>\n",
       "    <tr>\n",
       "      <th>2018-01-05 19:22:46+00:00</th>\n",
       "      <td>110.9</td>\n",
       "      <td>20.0</td>\n",
       "      <td>147.7</td>\n",
       "      <td>True</td>\n",
       "      <td>58.4</td>\n",
       "      <td>189</td>\n",
       "      <td>676.0</td>\n",
       "      <td>12</td>\n",
       "      <td>144</td>\n",
       "      <td>Ride</td>\n",
       "    </tr>\n",
       "  </tbody>\n",
       "</table>\n",
       "</div>"
      ],
      "text/plain": [
       "                           average_heartrate  average_temp  average_watts  \\\n",
       "date                                                                        \n",
       "2018-01-02 20:47:51+00:00              100.6          21.0           73.8   \n",
       "2018-01-04 01:36:53+00:00                NaN          24.0          131.7   \n",
       "2018-01-04 02:56:00+00:00               83.1          25.0           13.8   \n",
       "2018-01-04 05:37:04+00:00              110.1          24.0          113.6   \n",
       "2018-01-05 19:22:46+00:00              110.9          20.0          147.7   \n",
       "\n",
       "                          device_watts  distance  elapsed_time  \\\n",
       "date                                                             \n",
       "2018-01-02 20:47:51+00:00        False      15.2            94   \n",
       "2018-01-04 01:36:53+00:00        False      18.0            52   \n",
       "2018-01-04 02:56:00+00:00        False       0.0             3   \n",
       "2018-01-04 05:37:04+00:00        False      22.9            77   \n",
       "2018-01-05 19:22:46+00:00         True      58.4           189   \n",
       "\n",
       "                           elevation_gain  kudos  moving_time workout_type  \n",
       "date                                                                        \n",
       "2018-01-02 20:47:51+00:00           316.0     10           73         Ride  \n",
       "2018-01-04 01:36:53+00:00           236.0      5           46         Ride  \n",
       "2018-01-04 02:56:00+00:00             0.0      2            2         Ride  \n",
       "2018-01-04 05:37:04+00:00           246.0      8           64         Ride  \n",
       "2018-01-05 19:22:46+00:00           676.0     12          144         Ride  "
      ]
     },
     "execution_count": 2,
     "metadata": {},
     "output_type": "execute_result"
    }
   ],
   "source": [
    "strava = pd.read_csv('data/strava_export.csv', index_col='date', parse_dates=True)\n",
    "strava['elevation_gain']= strava.elevation_gain.str.replace('m', '').astype(float)\n",
    "strava.head()"
   ]
  },
  {
   "cell_type": "markdown",
   "metadata": {},
   "source": [
    "The second data was collected by an app called GoldenCheetah, and it can do some simple analysis for the ride data. So, we can observe two dataframe and see that whether there is someting interesting in here."
   ]
  },
  {
   "cell_type": "code",
   "execution_count": 3,
   "metadata": {
    "scrolled": false
   },
   "outputs": [
    {
     "data": {
      "text/html": [
       "<div>\n",
       "<style scoped>\n",
       "    .dataframe tbody tr th:only-of-type {\n",
       "        vertical-align: middle;\n",
       "    }\n",
       "\n",
       "    .dataframe tbody tr th {\n",
       "        vertical-align: top;\n",
       "    }\n",
       "\n",
       "    .dataframe thead th {\n",
       "        text-align: right;\n",
       "    }\n",
       "</style>\n",
       "<table border=\"1\" class=\"dataframe\">\n",
       "  <thead>\n",
       "    <tr style=\"text-align: right;\">\n",
       "      <th></th>\n",
       "      <th>date</th>\n",
       "      <th>time</th>\n",
       "      <th>filename</th>\n",
       "      <th>axPower</th>\n",
       "      <th>aPower Relative Intensity</th>\n",
       "      <th>aBikeScore</th>\n",
       "      <th>Skiba aVI</th>\n",
       "      <th>aPower Response Index</th>\n",
       "      <th>aIsoPower</th>\n",
       "      <th>aIF</th>\n",
       "      <th>...</th>\n",
       "      <th>Rest AVNN</th>\n",
       "      <th>Rest SDNN</th>\n",
       "      <th>Rest rMSSD</th>\n",
       "      <th>Rest PNN50</th>\n",
       "      <th>Rest LF</th>\n",
       "      <th>Rest HF</th>\n",
       "      <th>HRV Recovery Points</th>\n",
       "      <th>NP</th>\n",
       "      <th>IF</th>\n",
       "      <th>TSS</th>\n",
       "    </tr>\n",
       "  </thead>\n",
       "  <tbody>\n",
       "    <tr>\n",
       "      <th>2018-01-28 06:39:49+11:00</th>\n",
       "      <td>01/28/18</td>\n",
       "      <td>06:39:49</td>\n",
       "      <td>2018_01_28_06_39_49.json</td>\n",
       "      <td>202.211</td>\n",
       "      <td>0.75452</td>\n",
       "      <td>16.6520</td>\n",
       "      <td>1.31920</td>\n",
       "      <td>1.67755</td>\n",
       "      <td>223.621</td>\n",
       "      <td>0.83441</td>\n",
       "      <td>...</td>\n",
       "      <td>0</td>\n",
       "      <td>0</td>\n",
       "      <td>0</td>\n",
       "      <td>0</td>\n",
       "      <td>0</td>\n",
       "      <td>0</td>\n",
       "      <td>0</td>\n",
       "      <td>222.856</td>\n",
       "      <td>0.83155</td>\n",
       "      <td>20.2257</td>\n",
       "    </tr>\n",
       "    <tr>\n",
       "      <th>2018-01-28 07:01:32+11:00</th>\n",
       "      <td>01/28/18</td>\n",
       "      <td>07:01:32</td>\n",
       "      <td>2018_01_28_07_01_32.json</td>\n",
       "      <td>226.039</td>\n",
       "      <td>0.84343</td>\n",
       "      <td>80.2669</td>\n",
       "      <td>1.21137</td>\n",
       "      <td>1.54250</td>\n",
       "      <td>246.185</td>\n",
       "      <td>0.91860</td>\n",
       "      <td>...</td>\n",
       "      <td>0</td>\n",
       "      <td>0</td>\n",
       "      <td>0</td>\n",
       "      <td>0</td>\n",
       "      <td>0</td>\n",
       "      <td>0</td>\n",
       "      <td>0</td>\n",
       "      <td>245.365</td>\n",
       "      <td>0.91554</td>\n",
       "      <td>94.5787</td>\n",
       "    </tr>\n",
       "    <tr>\n",
       "      <th>2018-02-01 08:13:34+11:00</th>\n",
       "      <td>02/01/18</td>\n",
       "      <td>08:13:34</td>\n",
       "      <td>2018_02_01_08_13_34.json</td>\n",
       "      <td>0.000</td>\n",
       "      <td>0.00000</td>\n",
       "      <td>0.0000</td>\n",
       "      <td>0.00000</td>\n",
       "      <td>0.00000</td>\n",
       "      <td>0.000</td>\n",
       "      <td>0.00000</td>\n",
       "      <td>...</td>\n",
       "      <td>0</td>\n",
       "      <td>0</td>\n",
       "      <td>0</td>\n",
       "      <td>0</td>\n",
       "      <td>0</td>\n",
       "      <td>0</td>\n",
       "      <td>0</td>\n",
       "      <td>0.000</td>\n",
       "      <td>0.00000</td>\n",
       "      <td>0.0000</td>\n",
       "    </tr>\n",
       "    <tr>\n",
       "      <th>2018-02-06 08:06:42+11:00</th>\n",
       "      <td>02/06/18</td>\n",
       "      <td>08:06:42</td>\n",
       "      <td>2018_02_06_08_06_42.json</td>\n",
       "      <td>221.672</td>\n",
       "      <td>0.82714</td>\n",
       "      <td>78.8866</td>\n",
       "      <td>1.35775</td>\n",
       "      <td>1.86002</td>\n",
       "      <td>254.409</td>\n",
       "      <td>0.94929</td>\n",
       "      <td>...</td>\n",
       "      <td>0</td>\n",
       "      <td>0</td>\n",
       "      <td>0</td>\n",
       "      <td>0</td>\n",
       "      <td>0</td>\n",
       "      <td>0</td>\n",
       "      <td>0</td>\n",
       "      <td>253.702</td>\n",
       "      <td>0.94665</td>\n",
       "      <td>98.3269</td>\n",
       "    </tr>\n",
       "    <tr>\n",
       "      <th>2018-02-07 17:59:05+11:00</th>\n",
       "      <td>02/07/18</td>\n",
       "      <td>17:59:05</td>\n",
       "      <td>2018_02_07_17_59_05.json</td>\n",
       "      <td>218.211</td>\n",
       "      <td>0.81422</td>\n",
       "      <td>159.4590</td>\n",
       "      <td>1.47188</td>\n",
       "      <td>1.74658</td>\n",
       "      <td>233.780</td>\n",
       "      <td>0.87231</td>\n",
       "      <td>...</td>\n",
       "      <td>0</td>\n",
       "      <td>0</td>\n",
       "      <td>0</td>\n",
       "      <td>0</td>\n",
       "      <td>0</td>\n",
       "      <td>0</td>\n",
       "      <td>0</td>\n",
       "      <td>232.644</td>\n",
       "      <td>0.86808</td>\n",
       "      <td>171.0780</td>\n",
       "    </tr>\n",
       "  </tbody>\n",
       "</table>\n",
       "<p>5 rows × 362 columns</p>\n",
       "</div>"
      ],
      "text/plain": [
       "                               date      time                  filename  \\\n",
       "2018-01-28 06:39:49+11:00  01/28/18  06:39:49  2018_01_28_06_39_49.json   \n",
       "2018-01-28 07:01:32+11:00  01/28/18  07:01:32  2018_01_28_07_01_32.json   \n",
       "2018-02-01 08:13:34+11:00  02/01/18  08:13:34  2018_02_01_08_13_34.json   \n",
       "2018-02-06 08:06:42+11:00  02/06/18  08:06:42  2018_02_06_08_06_42.json   \n",
       "2018-02-07 17:59:05+11:00  02/07/18  17:59:05  2018_02_07_17_59_05.json   \n",
       "\n",
       "                           axPower  aPower Relative Intensity  aBikeScore  \\\n",
       "2018-01-28 06:39:49+11:00  202.211                    0.75452     16.6520   \n",
       "2018-01-28 07:01:32+11:00  226.039                    0.84343     80.2669   \n",
       "2018-02-01 08:13:34+11:00    0.000                    0.00000      0.0000   \n",
       "2018-02-06 08:06:42+11:00  221.672                    0.82714     78.8866   \n",
       "2018-02-07 17:59:05+11:00  218.211                    0.81422    159.4590   \n",
       "\n",
       "                           Skiba aVI  aPower Response Index  aIsoPower  \\\n",
       "2018-01-28 06:39:49+11:00    1.31920                1.67755    223.621   \n",
       "2018-01-28 07:01:32+11:00    1.21137                1.54250    246.185   \n",
       "2018-02-01 08:13:34+11:00    0.00000                0.00000      0.000   \n",
       "2018-02-06 08:06:42+11:00    1.35775                1.86002    254.409   \n",
       "2018-02-07 17:59:05+11:00    1.47188                1.74658    233.780   \n",
       "\n",
       "                               aIF  ...  Rest AVNN  Rest SDNN  Rest rMSSD  \\\n",
       "2018-01-28 06:39:49+11:00  0.83441  ...          0          0           0   \n",
       "2018-01-28 07:01:32+11:00  0.91860  ...          0          0           0   \n",
       "2018-02-01 08:13:34+11:00  0.00000  ...          0          0           0   \n",
       "2018-02-06 08:06:42+11:00  0.94929  ...          0          0           0   \n",
       "2018-02-07 17:59:05+11:00  0.87231  ...          0          0           0   \n",
       "\n",
       "                           Rest PNN50  Rest LF  Rest HF  HRV Recovery Points  \\\n",
       "2018-01-28 06:39:49+11:00           0        0        0                    0   \n",
       "2018-01-28 07:01:32+11:00           0        0        0                    0   \n",
       "2018-02-01 08:13:34+11:00           0        0        0                    0   \n",
       "2018-02-06 08:06:42+11:00           0        0        0                    0   \n",
       "2018-02-07 17:59:05+11:00           0        0        0                    0   \n",
       "\n",
       "                                NP       IF       TSS  \n",
       "2018-01-28 06:39:49+11:00  222.856  0.83155   20.2257  \n",
       "2018-01-28 07:01:32+11:00  245.365  0.91554   94.5787  \n",
       "2018-02-01 08:13:34+11:00    0.000  0.00000    0.0000  \n",
       "2018-02-06 08:06:42+11:00  253.702  0.94665   98.3269  \n",
       "2018-02-07 17:59:05+11:00  232.644  0.86808  171.0780  \n",
       "\n",
       "[5 rows x 362 columns]"
      ]
     },
     "execution_count": 3,
     "metadata": {},
     "output_type": "execute_result"
    }
   ],
   "source": [
    "cheetah = pd.read_csv('data/cheetah.csv', skipinitialspace=True)\n",
    "cheetah.index = pd.to_datetime(cheetah['date'] + ' ' + cheetah['time'])\n",
    "cheetah.index = cheetah.index.tz_localize('Australia/Sydney')\n",
    "cheetah.head()"
   ]
  },
  {
   "cell_type": "markdown",
   "metadata": {},
   "source": [
    "## Combine two data"
   ]
  },
  {
   "cell_type": "code",
   "execution_count": 4,
   "metadata": {},
   "outputs": [
    {
     "data": {
      "text/html": [
       "<div>\n",
       "<style scoped>\n",
       "    .dataframe tbody tr th:only-of-type {\n",
       "        vertical-align: middle;\n",
       "    }\n",
       "\n",
       "    .dataframe tbody tr th {\n",
       "        vertical-align: top;\n",
       "    }\n",
       "\n",
       "    .dataframe thead th {\n",
       "        text-align: right;\n",
       "    }\n",
       "</style>\n",
       "<table border=\"1\" class=\"dataframe\">\n",
       "  <thead>\n",
       "    <tr style=\"text-align: right;\">\n",
       "      <th></th>\n",
       "      <th>average_heartrate</th>\n",
       "      <th>average_temp</th>\n",
       "      <th>average_watts</th>\n",
       "      <th>device_watts</th>\n",
       "      <th>distance</th>\n",
       "      <th>elapsed_time</th>\n",
       "      <th>elevation_gain</th>\n",
       "      <th>kudos</th>\n",
       "      <th>moving_time</th>\n",
       "      <th>workout_type</th>\n",
       "      <th>...</th>\n",
       "      <th>Rest AVNN</th>\n",
       "      <th>Rest SDNN</th>\n",
       "      <th>Rest rMSSD</th>\n",
       "      <th>Rest PNN50</th>\n",
       "      <th>Rest LF</th>\n",
       "      <th>Rest HF</th>\n",
       "      <th>HRV Recovery Points</th>\n",
       "      <th>NP</th>\n",
       "      <th>IF</th>\n",
       "      <th>TSS</th>\n",
       "    </tr>\n",
       "  </thead>\n",
       "  <tbody>\n",
       "    <tr>\n",
       "      <th>2018-01-27 19:39:49+00:00</th>\n",
       "      <td>120.6</td>\n",
       "      <td>21.0</td>\n",
       "      <td>153.4</td>\n",
       "      <td>True</td>\n",
       "      <td>7.6</td>\n",
       "      <td>17</td>\n",
       "      <td>95.0</td>\n",
       "      <td>4</td>\n",
       "      <td>17</td>\n",
       "      <td>Ride</td>\n",
       "      <td>...</td>\n",
       "      <td>0</td>\n",
       "      <td>0</td>\n",
       "      <td>0</td>\n",
       "      <td>0</td>\n",
       "      <td>0</td>\n",
       "      <td>0</td>\n",
       "      <td>0</td>\n",
       "      <td>222.856</td>\n",
       "      <td>0.83155</td>\n",
       "      <td>20.2257</td>\n",
       "    </tr>\n",
       "    <tr>\n",
       "      <th>2018-01-27 20:01:32+00:00</th>\n",
       "      <td>146.9</td>\n",
       "      <td>22.0</td>\n",
       "      <td>187.7</td>\n",
       "      <td>True</td>\n",
       "      <td>38.6</td>\n",
       "      <td>67</td>\n",
       "      <td>449.0</td>\n",
       "      <td>19</td>\n",
       "      <td>67</td>\n",
       "      <td>Race</td>\n",
       "      <td>...</td>\n",
       "      <td>0</td>\n",
       "      <td>0</td>\n",
       "      <td>0</td>\n",
       "      <td>0</td>\n",
       "      <td>0</td>\n",
       "      <td>0</td>\n",
       "      <td>0</td>\n",
       "      <td>245.365</td>\n",
       "      <td>0.91554</td>\n",
       "      <td>94.5787</td>\n",
       "    </tr>\n",
       "    <tr>\n",
       "      <th>2018-01-31 21:13:34+00:00</th>\n",
       "      <td>109.8</td>\n",
       "      <td>19.0</td>\n",
       "      <td>143.0</td>\n",
       "      <td>False</td>\n",
       "      <td>26.3</td>\n",
       "      <td>649</td>\n",
       "      <td>612.0</td>\n",
       "      <td>6</td>\n",
       "      <td>113</td>\n",
       "      <td>Ride</td>\n",
       "      <td>...</td>\n",
       "      <td>0</td>\n",
       "      <td>0</td>\n",
       "      <td>0</td>\n",
       "      <td>0</td>\n",
       "      <td>0</td>\n",
       "      <td>0</td>\n",
       "      <td>0</td>\n",
       "      <td>0.000</td>\n",
       "      <td>0.00000</td>\n",
       "      <td>0.0000</td>\n",
       "    </tr>\n",
       "    <tr>\n",
       "      <th>2018-02-05 21:06:42+00:00</th>\n",
       "      <td>119.3</td>\n",
       "      <td>19.0</td>\n",
       "      <td>165.9</td>\n",
       "      <td>True</td>\n",
       "      <td>24.3</td>\n",
       "      <td>69</td>\n",
       "      <td>439.0</td>\n",
       "      <td>6</td>\n",
       "      <td>65</td>\n",
       "      <td>Ride</td>\n",
       "      <td>...</td>\n",
       "      <td>0</td>\n",
       "      <td>0</td>\n",
       "      <td>0</td>\n",
       "      <td>0</td>\n",
       "      <td>0</td>\n",
       "      <td>0</td>\n",
       "      <td>0</td>\n",
       "      <td>253.702</td>\n",
       "      <td>0.94665</td>\n",
       "      <td>98.3269</td>\n",
       "    </tr>\n",
       "    <tr>\n",
       "      <th>2018-02-07 06:59:05+00:00</th>\n",
       "      <td>124.8</td>\n",
       "      <td>20.0</td>\n",
       "      <td>151.0</td>\n",
       "      <td>True</td>\n",
       "      <td>47.1</td>\n",
       "      <td>144</td>\n",
       "      <td>890.0</td>\n",
       "      <td>10</td>\n",
       "      <td>134</td>\n",
       "      <td>Ride</td>\n",
       "      <td>...</td>\n",
       "      <td>0</td>\n",
       "      <td>0</td>\n",
       "      <td>0</td>\n",
       "      <td>0</td>\n",
       "      <td>0</td>\n",
       "      <td>0</td>\n",
       "      <td>0</td>\n",
       "      <td>232.644</td>\n",
       "      <td>0.86808</td>\n",
       "      <td>171.0780</td>\n",
       "    </tr>\n",
       "  </tbody>\n",
       "</table>\n",
       "<p>5 rows × 372 columns</p>\n",
       "</div>"
      ],
      "text/plain": [
       "                           average_heartrate  average_temp  average_watts  \\\n",
       "2018-01-27 19:39:49+00:00              120.6          21.0          153.4   \n",
       "2018-01-27 20:01:32+00:00              146.9          22.0          187.7   \n",
       "2018-01-31 21:13:34+00:00              109.8          19.0          143.0   \n",
       "2018-02-05 21:06:42+00:00              119.3          19.0          165.9   \n",
       "2018-02-07 06:59:05+00:00              124.8          20.0          151.0   \n",
       "\n",
       "                          device_watts  distance  elapsed_time  \\\n",
       "2018-01-27 19:39:49+00:00         True       7.6            17   \n",
       "2018-01-27 20:01:32+00:00         True      38.6            67   \n",
       "2018-01-31 21:13:34+00:00        False      26.3           649   \n",
       "2018-02-05 21:06:42+00:00         True      24.3            69   \n",
       "2018-02-07 06:59:05+00:00         True      47.1           144   \n",
       "\n",
       "                           elevation_gain  kudos  moving_time workout_type  \\\n",
       "2018-01-27 19:39:49+00:00            95.0      4           17         Ride   \n",
       "2018-01-27 20:01:32+00:00           449.0     19           67         Race   \n",
       "2018-01-31 21:13:34+00:00           612.0      6          113         Ride   \n",
       "2018-02-05 21:06:42+00:00           439.0      6           65         Ride   \n",
       "2018-02-07 06:59:05+00:00           890.0     10          134         Ride   \n",
       "\n",
       "                           ... Rest AVNN Rest SDNN Rest rMSSD  Rest PNN50  \\\n",
       "2018-01-27 19:39:49+00:00  ...         0         0          0           0   \n",
       "2018-01-27 20:01:32+00:00  ...         0         0          0           0   \n",
       "2018-01-31 21:13:34+00:00  ...         0         0          0           0   \n",
       "2018-02-05 21:06:42+00:00  ...         0         0          0           0   \n",
       "2018-02-07 06:59:05+00:00  ...         0         0          0           0   \n",
       "\n",
       "                           Rest LF  Rest HF  HRV Recovery Points       NP  \\\n",
       "2018-01-27 19:39:49+00:00        0        0                    0  222.856   \n",
       "2018-01-27 20:01:32+00:00        0        0                    0  245.365   \n",
       "2018-01-31 21:13:34+00:00        0        0                    0    0.000   \n",
       "2018-02-05 21:06:42+00:00        0        0                    0  253.702   \n",
       "2018-02-07 06:59:05+00:00        0        0                    0  232.644   \n",
       "\n",
       "                                IF       TSS  \n",
       "2018-01-27 19:39:49+00:00  0.83155   20.2257  \n",
       "2018-01-27 20:01:32+00:00  0.91554   94.5787  \n",
       "2018-01-31 21:13:34+00:00  0.00000    0.0000  \n",
       "2018-02-05 21:06:42+00:00  0.94665   98.3269  \n",
       "2018-02-07 06:59:05+00:00  0.86808  171.0780  \n",
       "\n",
       "[5 rows x 372 columns]"
      ]
     },
     "execution_count": 4,
     "metadata": {},
     "output_type": "execute_result"
    }
   ],
   "source": [
    "df= strava.join(cheetah,how='inner')\n",
    "compression_opts = dict(method='zip',archive_name='qwert.csv')  \n",
    "df.to_csv('qwert.zip', index=False,compression=compression_opts)\n",
    "df.head()"
   ]
  },
  {
   "cell_type": "markdown",
   "metadata": {},
   "source": [
    "## Remove the column\" device_watts\" is 'False'."
   ]
  },
  {
   "cell_type": "code",
   "execution_count": 5,
   "metadata": {},
   "outputs": [],
   "source": [
    "df['device_watts']= df.device_watts.astype(str).replace('True', '1')\n",
    "df['device_watts']= df.device_watts.astype(str).replace('False', '2')\n",
    "indexNames = df[ (df['device_watts'] == '2')].index\n",
    "df.drop(indexNames , inplace=True)\n",
    "df['device_watts']= df.device_watts.astype(str).replace('1', 'True')"
   ]
  },
  {
   "cell_type": "markdown",
   "metadata": {},
   "source": [
    "# Data Exploring\n",
    "\n",
    "Look the distribution in each variables."
   ]
  },
  {
   "cell_type": "code",
   "execution_count": 6,
   "metadata": {},
   "outputs": [
    {
     "data": {
      "text/plain": [
       "Text(0, 0.5, 'Frequency')"
      ]
     },
     "execution_count": 6,
     "metadata": {},
     "output_type": "execute_result"
    },
    {
     "data": {
      "image/png": "[encoded data removed]",
      "text/plain": [
       "<Figure size 432x288 with 1 Axes>"
      ]
     },
     "metadata": {
      "needs_background": "light"
     },
     "output_type": "display_data"
    }
   ],
   "source": [
    "hist_distance = df['distance'].hist()\n",
    "hist_distance.set_title('Distance Histogram')\n",
    "hist_distance.set_xlabel('Distance Score')\n",
    "hist_distance.set_ylabel('Frequency')"
   ]
  },
  {
   "cell_type": "markdown",
   "metadata": {},
   "source": [
    "It is a right-skewed distribution."
   ]
  },
  {
   "cell_type": "code",
   "execution_count": 7,
   "metadata": {},
   "outputs": [
    {
     "data": {
      "text/plain": [
       "Text(0, 0.5, 'Frequency')"
      ]
     },
     "execution_count": 7,
     "metadata": {},
     "output_type": "execute_result"
    },
    {
     "data": {
      "image/png": "[encoded data removed]",
      "text/plain": [
       "<Figure size 432x288 with 1 Axes>"
      ]
     },
     "metadata": {
      "needs_background": "light"
     },
     "output_type": "display_data"
    }
   ],
   "source": [
    "hist_time = df['time'].hist(color='skyblue')\n",
    "hist_time.set_title('Time Hisogram')\n",
    "hist_time.set_xlabel('Time Score')\n",
    "hist_time.set_ylabel('Frequency')"
   ]
  },
  {
   "cell_type": "markdown",
   "metadata": {},
   "source": [
    "It is a uni distribution."
   ]
  },
  {
   "cell_type": "code",
   "execution_count": 8,
   "metadata": {},
   "outputs": [
    {
     "data": {
      "text/plain": [
       "Text(0, 0.5, 'Frequency')"
      ]
     },
     "execution_count": 8,
     "metadata": {},
     "output_type": "execute_result"
    },
    {
     "data": {
      "image/png": "[encoded data removed]",
      "text/plain": [
       "<Figure size 432x288 with 1 Axes>"
      ]
     },
     "metadata": {
      "needs_background": "light"
     },
     "output_type": "display_data"
    }
   ],
   "source": [
    "hist_AveragePower = df['Average Power'].hist()\n",
    "hist_AveragePower.set_title('Average Power Histogram')\n",
    "hist_AveragePower.set_xlabel('Average Power Score')\n",
    "hist_AveragePower.set_ylabel('Frequency')"
   ]
  },
  {
   "cell_type": "markdown",
   "metadata": {},
   "source": [
    "It is a left-skewed distribution."
   ]
  },
  {
   "cell_type": "code",
   "execution_count": 9,
   "metadata": {},
   "outputs": [
    {
     "data": {
      "text/plain": [
       "Text(0, 0.5, 'Frequency')"
      ]
     },
     "execution_count": 9,
     "metadata": {},
     "output_type": "execute_result"
    },
    {
     "data": {
      "image/png": "[encoded data removed]",
      "text/plain": [
       "<Figure size 432x288 with 1 Axes>"
      ]
     },
     "metadata": {
      "needs_background": "light"
     },
     "output_type": "display_data"
    }
   ],
   "source": [
    "hist_time = df['moving_time'].hist(color='skyblue')\n",
    "hist_time.set_title('Moving_time Histogram')\n",
    "hist_time.set_xlabel('Moving_time Score')\n",
    "hist_time.set_ylabel('Frequency')"
   ]
  },
  {
   "cell_type": "markdown",
   "metadata": {},
   "source": [
    "It is a right-skewed distribution."
   ]
  },
  {
   "cell_type": "code",
   "execution_count": 10,
   "metadata": {},
   "outputs": [
    {
     "data": {
      "text/plain": [
       "Text(0, 0.5, 'Frequency')"
      ]
     },
     "execution_count": 10,
     "metadata": {},
     "output_type": "execute_result"
    },
    {
     "data": {
      "image/png": "[encoded data removed]",
      "text/plain": [
       "<Figure size 432x288 with 1 Axes>"
      ]
     },
     "metadata": {
      "needs_background": "light"
     },
     "output_type": "display_data"
    }
   ],
   "source": [
    "hist_Average_Speed = df['Average Speed'].hist(color='black')\n",
    "hist_Average_Speed.set_title('Average Speed Histogram')\n",
    "hist_Average_Speed.set_xlabel('Average Speed Score')\n",
    "hist_Average_Speed.set_ylabel('Frequency')"
   ]
  },
  {
   "cell_type": "markdown",
   "metadata": {},
   "source": [
    "It is a left-skewed distribution."
   ]
  },
  {
   "cell_type": "code",
   "execution_count": 11,
   "metadata": {},
   "outputs": [
    {
     "data": {
      "text/plain": [
       "Text(0, 0.5, 'Frequency')"
      ]
     },
     "execution_count": 11,
     "metadata": {},
     "output_type": "execute_result"
    },
    {
     "data": {
      "image/png": "[encoded data removed]",
      "text/plain": [
       "<Figure size 432x288 with 1 Axes>"
      ]
     },
     "metadata": {
      "needs_background": "light"
     },
     "output_type": "display_data"
    }
   ],
   "source": [
    "hist= df['average_heartrate'].hist(color='y')\n",
    "hist.set_title('average_heartrate Histogram')\n",
    "hist.set_xlabel('average_heartrate Score')\n",
    "hist.set_ylabel('Frequency')"
   ]
  },
  {
   "cell_type": "markdown",
   "metadata": {},
   "source": [
    "It close to normal distribution."
   ]
  },
  {
   "cell_type": "code",
   "execution_count": 12,
   "metadata": {},
   "outputs": [
    {
     "data": {
      "text/plain": [
       "Text(0, 0.5, 'Frequency')"
      ]
     },
     "execution_count": 12,
     "metadata": {},
     "output_type": "execute_result"
    },
    {
     "data": {
      "image/png": "[encoded data removed]",
      "text/plain": [
       "<Figure size 432x288 with 1 Axes>"
      ]
     },
     "metadata": {
      "needs_background": "light"
     },
     "output_type": "display_data"
    }
   ],
   "source": [
    "hist= df['average_watts'].hist(color='g')\n",
    "hist.set_title('Average_watts Histogram')\n",
    "hist.set_xlabel('Average_watts Score')\n",
    "hist.set_ylabel('Frequency')"
   ]
  },
  {
   "cell_type": "markdown",
   "metadata": {},
   "source": [
    "It is a right-skewed distribution."
   ]
  },
  {
   "cell_type": "code",
   "execution_count": 13,
   "metadata": {},
   "outputs": [
    {
     "data": {
      "text/plain": [
       "Text(0, 0.5, 'Frequency')"
      ]
     },
     "execution_count": 13,
     "metadata": {},
     "output_type": "execute_result"
    },
    {
     "data": {
      "image/png": "[encoded data removed]",
      "text/plain": [
       "<Figure size 432x288 with 1 Axes>"
      ]
     },
     "metadata": {
      "needs_background": "light"
     },
     "output_type": "display_data"
    }
   ],
   "source": [
    "hist= df['NP'].hist(color='purple')\n",
    "hist.set_title('Normalised power Histogram')\n",
    "hist.set_xlabel('Normalised power Score')\n",
    "hist.set_ylabel('Frequency')"
   ]
  },
  {
   "cell_type": "markdown",
   "metadata": {},
   "source": [
    "It is a left-skewed distribution."
   ]
  },
  {
   "cell_type": "code",
   "execution_count": 14,
   "metadata": {},
   "outputs": [
    {
     "data": {
      "text/plain": [
       "Text(0, 0.5, 'Frequency')"
      ]
     },
     "execution_count": 14,
     "metadata": {},
     "output_type": "execute_result"
    },
    {
     "data": {
      "image/png": "[encoded data removed]",
      "text/plain": [
       "<Figure size 432x288 with 1 Axes>"
      ]
     },
     "metadata": {
      "needs_background": "light"
     },
     "output_type": "display_data"
    }
   ],
   "source": [
    "hist= df['TSS'].hist(color='pink')\n",
    "hist.set_title('Training Stress Histogram')\n",
    "hist.set_xlabel('Training Stress Score')\n",
    "hist.set_ylabel('Frequency')"
   ]
  },
  {
   "cell_type": "markdown",
   "metadata": {},
   "source": [
    "It is a right-skewed distribution."
   ]
  },
  {
   "cell_type": "code",
   "execution_count": 15,
   "metadata": {},
   "outputs": [
    {
     "data": {
      "text/plain": [
       "Text(0, 0.5, 'Frequency')"
      ]
     },
     "execution_count": 15,
     "metadata": {},
     "output_type": "execute_result"
    },
    {
     "data": {
      "image/png": "[encoded data removed]",
      "text/plain": [
       "<Figure size 432x288 with 1 Axes>"
      ]
     },
     "metadata": {
      "needs_background": "light"
     },
     "output_type": "display_data"
    }
   ],
   "source": [
    "hist= df['elevation_gain'].hist(color='brown')\n",
    "hist.set_title('Elevation Gain Histogram')\n",
    "hist.set_xlabel('Elevation Gain Score')\n",
    "hist.set_ylabel('Frequency')"
   ]
  },
  {
   "cell_type": "markdown",
   "metadata": {},
   "source": [
    "It is a right-skewed distribution."
   ]
  },
  {
   "cell_type": "markdown",
   "metadata": {},
   "source": [
    "# Data cleaning"
   ]
  },
  {
   "cell_type": "code",
   "execution_count": 16,
   "metadata": {},
   "outputs": [],
   "source": [
    "df.dropna(inplace=True)"
   ]
  },
  {
   "cell_type": "markdown",
   "metadata": {},
   "source": [
    "Make sure all data without N/A"
   ]
  },
  {
   "cell_type": "code",
   "execution_count": 17,
   "metadata": {},
   "outputs": [
    {
     "data": {
      "text/plain": [
       "False"
      ]
     },
     "execution_count": 17,
     "metadata": {},
     "output_type": "execute_result"
    }
   ],
   "source": [
    "df.isnull().values.any()"
   ]
  },
  {
   "cell_type": "markdown",
   "metadata": {},
   "source": [
    "We can make sure that there is no null value in this dataframe."
   ]
  },
  {
   "cell_type": "markdown",
   "metadata": {},
   "source": [
    "# Correaltion matrix (Heat-map)"
   ]
  },
  {
   "cell_type": "code",
   "execution_count": 18,
   "metadata": {},
   "outputs": [
    {
     "data": {
      "text/plain": [
       "<matplotlib.axes._subplots.AxesSubplot at 0x1a22a1a5d0>"
      ]
     },
     "execution_count": 18,
     "metadata": {},
     "output_type": "execute_result"
    },
    {
     "data": {
      "image/png": "[encoded data removed]",
      "text/plain": [
       "<Figure size 864x432 with 2 Axes>"
      ]
     },
     "metadata": {
      "needs_background": "light"
     },
     "output_type": "display_data"
    }
   ],
   "source": [
    "plt.figure(figsize=(12,6))\n",
    "df_heatmap=df[['distance','Average Speed','moving_time','average_heartrate','average_watts','NP','TSS','elevation_gain']]\n",
    "sns.heatmap(df_heatmap.corr(),annot=True)"
   ]
  },
  {
   "cell_type": "markdown",
   "metadata": {},
   "source": [
    "In this graph, there are several points in here:\n",
    "\n",
    "1. The more distances, and it need more moving_time to arrive the destination.\n",
    "2. The more distances, it will accumulate more training stress in body.\n",
    "3. The more distances, and it need more elevation_gain to arrive the destination.\n",
    "4. When the rider has more average speed, the average heart rate will increase.\n",
    "5. The more average speed the rider needs, the more power(average_watts)\n",
    "6. The more moving_time, it will accumulate more training stress in body.\n",
    "7. The more moving_time, and it need more elevation_gain to arrive the destination."
   ]
  },
  {
   "cell_type": "markdown",
   "metadata": {},
   "source": [
    "# Measuring the most challenging rides in dataframe."
   ]
  },
  {
   "cell_type": "code",
   "execution_count": 19,
   "metadata": {},
   "outputs": [
    {
     "data": {
      "text/plain": [
       "<matplotlib.axes._subplots.AxesSubplot at 0x1a246ba810>"
      ]
     },
     "execution_count": 19,
     "metadata": {},
     "output_type": "execute_result"
    },
    {
     "data": {
      "image/png": "[encoded data removed]",
      "text/plain": [
       "<Figure size 432x288 with 1 Axes>"
      ]
     },
     "metadata": {
      "needs_background": "light"
     },
     "output_type": "display_data"
    }
   ],
   "source": [
    "sns.boxplot(x='workout_type', y='NP', data=df)"
   ]
  },
  {
   "cell_type": "markdown",
   "metadata": {},
   "source": [
    "We can know that races are more challenging than rides in general from Normalised power (NP), because the man needs to spend much more power in race."
   ]
  },
  {
   "cell_type": "markdown",
   "metadata": {},
   "source": [
    "# Convert time zone from UTC to Australia/Sydney"
   ]
  },
  {
   "cell_type": "code",
   "execution_count": 20,
   "metadata": {},
   "outputs": [],
   "source": [
    "df.index\n",
    "df_strava=strava.tz_convert('Australia/Sydney')"
   ]
  },
  {
   "cell_type": "markdown",
   "metadata": {},
   "source": [
    "Merge a new datafrmae between df_strava and cheetah in same time zone(Australia/Sydney)"
   ]
  },
  {
   "cell_type": "code",
   "execution_count": 21,
   "metadata": {},
   "outputs": [
    {
     "data": {
      "text/html": [
       "<div>\n",
       "<style scoped>\n",
       "    .dataframe tbody tr th:only-of-type {\n",
       "        vertical-align: middle;\n",
       "    }\n",
       "\n",
       "    .dataframe tbody tr th {\n",
       "        vertical-align: top;\n",
       "    }\n",
       "\n",
       "    .dataframe thead th {\n",
       "        text-align: right;\n",
       "    }\n",
       "</style>\n",
       "<table border=\"1\" class=\"dataframe\">\n",
       "  <thead>\n",
       "    <tr style=\"text-align: right;\">\n",
       "      <th></th>\n",
       "      <th>average_heartrate</th>\n",
       "      <th>average_temp</th>\n",
       "      <th>average_watts</th>\n",
       "      <th>device_watts</th>\n",
       "      <th>distance</th>\n",
       "      <th>elapsed_time</th>\n",
       "      <th>elevation_gain</th>\n",
       "      <th>kudos</th>\n",
       "      <th>moving_time</th>\n",
       "      <th>workout_type</th>\n",
       "      <th>...</th>\n",
       "      <th>Rest AVNN</th>\n",
       "      <th>Rest SDNN</th>\n",
       "      <th>Rest rMSSD</th>\n",
       "      <th>Rest PNN50</th>\n",
       "      <th>Rest LF</th>\n",
       "      <th>Rest HF</th>\n",
       "      <th>HRV Recovery Points</th>\n",
       "      <th>NP</th>\n",
       "      <th>IF</th>\n",
       "      <th>TSS</th>\n",
       "    </tr>\n",
       "  </thead>\n",
       "  <tbody>\n",
       "    <tr>\n",
       "      <th>2018-01-28 06:39:49+11:00</th>\n",
       "      <td>120.6</td>\n",
       "      <td>21.0</td>\n",
       "      <td>153.4</td>\n",
       "      <td>True</td>\n",
       "      <td>7.6</td>\n",
       "      <td>17</td>\n",
       "      <td>95.0</td>\n",
       "      <td>4</td>\n",
       "      <td>17</td>\n",
       "      <td>Ride</td>\n",
       "      <td>...</td>\n",
       "      <td>0</td>\n",
       "      <td>0</td>\n",
       "      <td>0</td>\n",
       "      <td>0</td>\n",
       "      <td>0</td>\n",
       "      <td>0</td>\n",
       "      <td>0</td>\n",
       "      <td>222.856</td>\n",
       "      <td>0.83155</td>\n",
       "      <td>20.2257</td>\n",
       "    </tr>\n",
       "    <tr>\n",
       "      <th>2018-01-28 07:01:32+11:00</th>\n",
       "      <td>146.9</td>\n",
       "      <td>22.0</td>\n",
       "      <td>187.7</td>\n",
       "      <td>True</td>\n",
       "      <td>38.6</td>\n",
       "      <td>67</td>\n",
       "      <td>449.0</td>\n",
       "      <td>19</td>\n",
       "      <td>67</td>\n",
       "      <td>Race</td>\n",
       "      <td>...</td>\n",
       "      <td>0</td>\n",
       "      <td>0</td>\n",
       "      <td>0</td>\n",
       "      <td>0</td>\n",
       "      <td>0</td>\n",
       "      <td>0</td>\n",
       "      <td>0</td>\n",
       "      <td>245.365</td>\n",
       "      <td>0.91554</td>\n",
       "      <td>94.5787</td>\n",
       "    </tr>\n",
       "    <tr>\n",
       "      <th>2018-02-01 08:13:34+11:00</th>\n",
       "      <td>109.8</td>\n",
       "      <td>19.0</td>\n",
       "      <td>143.0</td>\n",
       "      <td>False</td>\n",
       "      <td>26.3</td>\n",
       "      <td>649</td>\n",
       "      <td>612.0</td>\n",
       "      <td>6</td>\n",
       "      <td>113</td>\n",
       "      <td>Ride</td>\n",
       "      <td>...</td>\n",
       "      <td>0</td>\n",
       "      <td>0</td>\n",
       "      <td>0</td>\n",
       "      <td>0</td>\n",
       "      <td>0</td>\n",
       "      <td>0</td>\n",
       "      <td>0</td>\n",
       "      <td>0.000</td>\n",
       "      <td>0.00000</td>\n",
       "      <td>0.0000</td>\n",
       "    </tr>\n",
       "    <tr>\n",
       "      <th>2018-02-06 08:06:42+11:00</th>\n",
       "      <td>119.3</td>\n",
       "      <td>19.0</td>\n",
       "      <td>165.9</td>\n",
       "      <td>True</td>\n",
       "      <td>24.3</td>\n",
       "      <td>69</td>\n",
       "      <td>439.0</td>\n",
       "      <td>6</td>\n",
       "      <td>65</td>\n",
       "      <td>Ride</td>\n",
       "      <td>...</td>\n",
       "      <td>0</td>\n",
       "      <td>0</td>\n",
       "      <td>0</td>\n",
       "      <td>0</td>\n",
       "      <td>0</td>\n",
       "      <td>0</td>\n",
       "      <td>0</td>\n",
       "      <td>253.702</td>\n",
       "      <td>0.94665</td>\n",
       "      <td>98.3269</td>\n",
       "    </tr>\n",
       "    <tr>\n",
       "      <th>2018-02-07 17:59:05+11:00</th>\n",
       "      <td>124.8</td>\n",
       "      <td>20.0</td>\n",
       "      <td>151.0</td>\n",
       "      <td>True</td>\n",
       "      <td>47.1</td>\n",
       "      <td>144</td>\n",
       "      <td>890.0</td>\n",
       "      <td>10</td>\n",
       "      <td>134</td>\n",
       "      <td>Ride</td>\n",
       "      <td>...</td>\n",
       "      <td>0</td>\n",
       "      <td>0</td>\n",
       "      <td>0</td>\n",
       "      <td>0</td>\n",
       "      <td>0</td>\n",
       "      <td>0</td>\n",
       "      <td>0</td>\n",
       "      <td>232.644</td>\n",
       "      <td>0.86808</td>\n",
       "      <td>171.0780</td>\n",
       "    </tr>\n",
       "  </tbody>\n",
       "</table>\n",
       "<p>5 rows × 372 columns</p>\n",
       "</div>"
      ],
      "text/plain": [
       "                           average_heartrate  average_temp  average_watts  \\\n",
       "2018-01-28 06:39:49+11:00              120.6          21.0          153.4   \n",
       "2018-01-28 07:01:32+11:00              146.9          22.0          187.7   \n",
       "2018-02-01 08:13:34+11:00              109.8          19.0          143.0   \n",
       "2018-02-06 08:06:42+11:00              119.3          19.0          165.9   \n",
       "2018-02-07 17:59:05+11:00              124.8          20.0          151.0   \n",
       "\n",
       "                          device_watts  distance  elapsed_time  \\\n",
       "2018-01-28 06:39:49+11:00         True       7.6            17   \n",
       "2018-01-28 07:01:32+11:00         True      38.6            67   \n",
       "2018-02-01 08:13:34+11:00        False      26.3           649   \n",
       "2018-02-06 08:06:42+11:00         True      24.3            69   \n",
       "2018-02-07 17:59:05+11:00         True      47.1           144   \n",
       "\n",
       "                           elevation_gain  kudos  moving_time workout_type  \\\n",
       "2018-01-28 06:39:49+11:00            95.0      4           17         Ride   \n",
       "2018-01-28 07:01:32+11:00           449.0     19           67         Race   \n",
       "2018-02-01 08:13:34+11:00           612.0      6          113         Ride   \n",
       "2018-02-06 08:06:42+11:00           439.0      6           65         Ride   \n",
       "2018-02-07 17:59:05+11:00           890.0     10          134         Ride   \n",
       "\n",
       "                           ... Rest AVNN Rest SDNN Rest rMSSD  Rest PNN50  \\\n",
       "2018-01-28 06:39:49+11:00  ...         0         0          0           0   \n",
       "2018-01-28 07:01:32+11:00  ...         0         0          0           0   \n",
       "2018-02-01 08:13:34+11:00  ...         0         0          0           0   \n",
       "2018-02-06 08:06:42+11:00  ...         0         0          0           0   \n",
       "2018-02-07 17:59:05+11:00  ...         0         0          0           0   \n",
       "\n",
       "                           Rest LF  Rest HF  HRV Recovery Points       NP  \\\n",
       "2018-01-28 06:39:49+11:00        0        0                    0  222.856   \n",
       "2018-01-28 07:01:32+11:00        0        0                    0  245.365   \n",
       "2018-02-01 08:13:34+11:00        0        0                    0    0.000   \n",
       "2018-02-06 08:06:42+11:00        0        0                    0  253.702   \n",
       "2018-02-07 17:59:05+11:00        0        0                    0  232.644   \n",
       "\n",
       "                                IF       TSS  \n",
       "2018-01-28 06:39:49+11:00  0.83155   20.2257  \n",
       "2018-01-28 07:01:32+11:00  0.91554   94.5787  \n",
       "2018-02-01 08:13:34+11:00  0.00000    0.0000  \n",
       "2018-02-06 08:06:42+11:00  0.94665   98.3269  \n",
       "2018-02-07 17:59:05+11:00  0.86808  171.0780  \n",
       "\n",
       "[5 rows x 372 columns]"
      ]
     },
     "execution_count": 21,
     "metadata": {},
     "output_type": "execute_result"
    }
   ],
   "source": [
    "df_strava.index\n",
    "df2= df_strava.join(cheetah,how='inner')\n",
    "df2.head()"
   ]
  },
  {
   "cell_type": "markdown",
   "metadata": {},
   "source": [
    "Changing the date into a new form from 2018-01-28 06:39:49+11:00 to 2018-1, it helps us to reconginze when the month is."
   ]
  },
  {
   "cell_type": "code",
   "execution_count": 22,
   "metadata": {},
   "outputs": [],
   "source": [
    "df2['date'] = pd.to_datetime(df2['date']).dt.to_period('M')"
   ]
  },
  {
   "cell_type": "markdown",
   "metadata": {},
   "source": [
    "Using groupby to let me know the distance in each month.\n",
    "Also, I create a new dataframe for explaining these data."
   ]
  },
  {
   "cell_type": "code",
   "execution_count": 23,
   "metadata": {},
   "outputs": [],
   "source": [
    "x_distance_in_moonth=df2.groupby('date')['distance'].sum()\n",
    "x_distance_in_moonth = pd.DataFrame(data=x_distance_in_moonth)"
   ]
  },
  {
   "cell_type": "markdown",
   "metadata": {},
   "source": [
    "Build a new colmun to calulate the number of TSS and Average Speed.\n",
    "Using groupby to let me know the sum of TSS and Average Speed in each month."
   ]
  },
  {
   "cell_type": "code",
   "execution_count": 24,
   "metadata": {},
   "outputs": [],
   "source": [
    "df2['TSSplusAverage']=df2['TSS']+df2['Average Speed']\n",
    "sum_of_TTSplusAverageSpeed=df2.groupby('date')['TSSplusAverage'].sum()"
   ]
  },
  {
   "cell_type": "markdown",
   "metadata": {},
   "source": [
    "Put the data (TSS and Average Speed) into the new dataframe"
   ]
  },
  {
   "cell_type": "code",
   "execution_count": 25,
   "metadata": {},
   "outputs": [
    {
     "data": {
      "text/html": [
       "<div>\n",
       "<style scoped>\n",
       "    .dataframe tbody tr th:only-of-type {\n",
       "        vertical-align: middle;\n",
       "    }\n",
       "\n",
       "    .dataframe tbody tr th {\n",
       "        vertical-align: top;\n",
       "    }\n",
       "\n",
       "    .dataframe thead th {\n",
       "        text-align: right;\n",
       "    }\n",
       "</style>\n",
       "<table border=\"1\" class=\"dataframe\">\n",
       "  <thead>\n",
       "    <tr style=\"text-align: right;\">\n",
       "      <th></th>\n",
       "      <th>distance</th>\n",
       "      <th>sum_of_TSS&amp;AverageSpeed</th>\n",
       "    </tr>\n",
       "    <tr>\n",
       "      <th>date</th>\n",
       "      <th></th>\n",
       "      <th></th>\n",
       "    </tr>\n",
       "  </thead>\n",
       "  <tbody>\n",
       "    <tr>\n",
       "      <th>2018-01</th>\n",
       "      <td>46.2</td>\n",
       "      <td>175.2658</td>\n",
       "    </tr>\n",
       "    <tr>\n",
       "      <th>2018-02</th>\n",
       "      <td>476.8</td>\n",
       "      <td>1439.3704</td>\n",
       "    </tr>\n",
       "    <tr>\n",
       "      <th>2018-03</th>\n",
       "      <td>508.0</td>\n",
       "      <td>1707.9289</td>\n",
       "    </tr>\n",
       "    <tr>\n",
       "      <th>2018-04</th>\n",
       "      <td>450.2</td>\n",
       "      <td>1600.2282</td>\n",
       "    </tr>\n",
       "    <tr>\n",
       "      <th>2018-05</th>\n",
       "      <td>339.5</td>\n",
       "      <td>934.9800</td>\n",
       "    </tr>\n",
       "  </tbody>\n",
       "</table>\n",
       "</div>"
      ],
      "text/plain": [
       "         distance  sum_of_TSS&AverageSpeed\n",
       "date                                      \n",
       "2018-01      46.2                 175.2658\n",
       "2018-02     476.8                1439.3704\n",
       "2018-03     508.0                1707.9289\n",
       "2018-04     450.2                1600.2282\n",
       "2018-05     339.5                 934.9800"
      ]
     },
     "execution_count": 25,
     "metadata": {},
     "output_type": "execute_result"
    }
   ],
   "source": [
    "x_distance_in_moonth['sum_of_TSS&AverageSpeed']=sum_of_TTSplusAverageSpeed\n",
    "x_distance_in_moonth.head()"
   ]
  },
  {
   "cell_type": "markdown",
   "metadata": {},
   "source": [
    "Show the bar plot for these data"
   ]
  },
  {
   "cell_type": "code",
   "execution_count": 26,
   "metadata": {},
   "outputs": [
    {
     "data": {
      "image/png": "[encoded data removed]",
      "text/plain": [
       "<Figure size 1440x720 with 1 Axes>"
      ]
     },
     "metadata": {
      "needs_background": "light"
     },
     "output_type": "display_data"
    }
   ],
   "source": [
    "rcParams['figure.figsize'] =(20,10)\n",
    "ax = x_distance_in_moonth.plot.bar(rot=0)"
   ]
  },
  {
   "cell_type": "markdown",
   "metadata": {},
   "source": [
    "# Show the high correlation with kudos"
   ]
  },
  {
   "cell_type": "code",
   "execution_count": 27,
   "metadata": {
    "scrolled": true
   },
   "outputs": [
    {
     "name": "stdout",
     "output_type": "stream",
     "text": [
      "elapsed_time kudos 0.6171707608423216 1.7574493472771415e-16\n",
      "elapsed_time moving_time 0.9716846413551611 7.31734853222092e-91\n",
      "elapsed_time Duration 0.9999917325233524 0.0\n",
      "elapsed_time Time Moving 0.9723058534645508 1.5480109295793717e-91\n",
      "elapsed_time Time Carrying (Est) 0.7295833399098762 3.3695011598102776e-25\n",
      "elapsed_time H1 Time in Zone 0.7361136802103943 7.69519857560537e-26\n",
      "elapsed_time H2 Time in Zone 0.797434976667095 5.86244364308773e-33\n",
      "elapsed_time H3 Time in Zone 0.7711682300298262 1.2244910309528046e-29\n",
      "elapsed_time P1 Time in Pace Zone 0.6905004913812839 1.0199090399240617e-21\n",
      "elapsed_time P2 Time in Pace Zone 0.7615105569520559 1.582559273041851e-28\n",
      "elapsed_time P3 Time in Pace Zone 0.6950183482330318 4.312018883862767e-22\n",
      "elapsed_time P4 Time in Pace Zone 0.6790426594957774 8.449270864379895e-21\n",
      "elapsed_time P5 Time in Pace Zone 0.8100910498194351 9.736148476221617e-35\n",
      "elapsed_time P6 Time in Pace Zone 0.9479542474729765 1.8678907489818324e-72\n",
      "elapsed_time L7 Sustained Time 0.5106451967410008 6.202557280963214e-11\n",
      "elapsed_time L1 Time in Zone 0.9582565764507276 4.2439976941507466e-79\n",
      "elapsed_time L2 Time in Zone 0.8644067259078725 3.052066581693802e-44\n",
      "elapsed_time L3 Time in Zone 0.8124638649989427 4.3635932307494206e-35\n",
      "elapsed_time L4 Time in Zone 0.811325753699516 6.421493629371725e-35\n",
      "elapsed_time L5 Time in Zone 0.7826745879191812 4.903728337168249e-31\n",
      "elapsed_time L6 Time in Zone 0.71010712919595 2.159290660621719e-23\n",
      "elapsed_time L7 Time in Zone 0.5324299089336397 6.495184092569193e-12\n",
      "elapsed_time W'bal Matches 0.621207371430176 9.821222798898379e-17\n",
      "elapsed_time W1 Above CP W'bal Low Fatigue 0.8090032344186981 1.4013391915769947e-34\n",
      "elapsed_time W2 Above CP W'bal Moderate Fatigue 0.5813620980190701 2.1708197672262902e-14\n",
      "elapsed_time W1 W'bal Low Fatigue 0.9431221232677325 8.601534440600513e-70\n",
      "elapsed_time W2 W'bal Moderate Fatigue 0.5837130959014329 1.610997357223244e-14\n",
      "kudos moving_time 0.6155936337596467 2.2010905604853542e-16\n",
      "kudos Duration 0.6171753029330187 1.756307241188155e-16\n",
      "kudos Time Moving 0.6145689965010955 2.545981483217384e-16\n",
      "kudos Max Power 0.5471951652779088 1.2808009021707084e-12\n",
      "kudos Max Power Variance 0.5104690164139191 6.312717400889801e-11\n",
      "kudos H3 Time in Zone 0.5603268396522544 2.8233353790476753e-13\n",
      "kudos H4 Time in Zone 0.6870126952087692 1.9613493393930653e-21\n",
      "kudos P6 Time in Pace Zone 0.6974253676676868 2.7080200349356373e-22\n",
      "kudos 1 sec Peak Power 0.5471951652779088 1.2808009021707084e-12\n",
      "kudos L7 Sustained Time 0.51063866403803 6.206608566139958e-11\n",
      "kudos L1 Time in Zone 0.5286295054962077 9.741110593041629e-12\n",
      "kudos L2 Time in Zone 0.5217364413591016 2.006012125145436e-11\n",
      "kudos L3 Time in Zone 0.5051130162333884 1.0729375956781401e-10\n",
      "kudos L4 Time in Zone 0.5351136672611918 4.86367267054682e-12\n",
      "kudos L5 Time in Zone 0.5429655629731529 2.0558181810358705e-12\n",
      "kudos L6 Time in Zone 0.5780249782869293 3.301489555168358e-14\n",
      "kudos L7 Time in Zone 0.6626179569314021 1.489087631778423e-19\n",
      "kudos W'bal Matches 0.6921693518638388 7.434504465985585e-22\n",
      "kudos W2 Above CP W'bal Moderate Fatigue 0.6686712130705518 5.283127591315644e-20\n",
      "kudos W2 W'bal Moderate Fatigue 0.6882926757362549 1.544528956227996e-21\n",
      "moving_time Duration 0.9718381200762611 5.001452677044105e-91\n",
      "moving_time Time Moving 0.9998987202855265 3.8791636085384867e-264\n",
      "moving_time Time Carrying (Est) 0.6960182307936152 3.5563071010578385e-22\n",
      "moving_time H1 Time in Zone 0.7128720545630906 1.2217298478149731e-23\n",
      "moving_time H2 Time in Zone 0.805507466280127 4.44633432348984e-34\n",
      "moving_time H3 Time in Zone 0.8193142421821917 4.028677832660834e-36\n",
      "moving_time P1 Time in Pace Zone 0.7122319875591481 1.39473349658122e-23\n",
      "moving_time P2 Time in Pace Zone 0.7978353686584269 5.172784557937099e-33\n",
      "moving_time P3 Time in Pace Zone 0.7445296456685624 1.0742275766664416e-26\n",
      "moving_time P4 Time in Pace Zone 0.7393188991580759 3.6680423009867937e-26\n",
      "moving_time P5 Time in Pace Zone 0.8483602333658569 4.730037261699467e-41\n",
      "moving_time P6 Time in Pace Zone 0.9657832027763957 4.092208087332117e-85\n",
      "moving_time L7 Sustained Time 0.5048487987348291 1.1011212949051566e-10\n",
      "moving_time L1 Time in Zone 0.9596160533030073 4.242649284461163e-80\n",
      "moving_time L2 Time in Zone 0.8993739302201029 6.9850744405436075e-53\n",
      "moving_time L3 Time in Zone 0.8718086038916576 7.450845563188646e-46\n",
      "moving_time L4 Time in Zone 0.873809078489199 2.6253102158199508e-46\n",
      "moving_time L5 Time in Zone 0.8386987289869695 2.6466508837459736e-39\n",
      "moving_time L6 Time in Zone 0.7682452437687444 2.691618890404158e-29\n",
      "moving_time L7 Time in Zone 0.5355609164849273 4.63362324642467e-12\n",
      "moving_time W'bal Matches 0.6269491498227044 4.230015032002907e-17\n",
      "moving_time W1 Above CP W'bal Low Fatigue 0.8220812777006451 1.4953011221852111e-36\n",
      "moving_time W2 Above CP W'bal Moderate Fatigue 0.562614057366464 2.154805157060394e-13\n",
      "moving_time W1 W'bal Low Fatigue 0.901496223348915 1.6607634435495445e-53\n",
      "moving_time W2 W'bal Moderate Fatigue 0.5601040562763382 2.898313036240299e-13\n",
      "Duration Time Moving 0.9724631895360131 1.0386891196122281e-91\n",
      "Duration Time Carrying (Est) 0.7295596282867302 3.3873517045723227e-25\n",
      "Duration H1 Time in Zone 0.7364033668465728 7.199952384061635e-26\n",
      "Duration H2 Time in Zone 0.7979258250255873 5.028376245668577e-33\n",
      "Duration H3 Time in Zone 0.7709136991539476 1.3120275214969683e-29\n",
      "Duration P1 Time in Pace Zone 0.6908711741965006 9.509174742865029e-22\n",
      "Duration P2 Time in Pace Zone 0.7619890805119163 1.3980966086316968e-28\n",
      "Duration P3 Time in Pace Zone 0.695332141006479 4.059343530794703e-22\n",
      "Duration P4 Time in Pace Zone 0.6794513588827118 7.848392500767128e-21\n",
      "Duration P5 Time in Pace Zone 0.8104724717119637 8.564289029186127e-35\n",
      "Duration P6 Time in Pace Zone 0.9479729761708677 1.8219712789889585e-72\n",
      "Duration L7 Sustained Time 0.5111348513079668 5.906070793979757e-11\n",
      "Duration L1 Time in Zone 0.9584831830533957 2.90667769735697e-79\n",
      "Duration L2 Time in Zone 0.8644119685040502 3.044289121779257e-44\n",
      "Duration L3 Time in Zone 0.8124825512314842 4.3359055581694433e-35\n",
      "Duration L4 Time in Zone 0.8112731586131439 6.536761650177e-35\n",
      "Duration L5 Time in Zone 0.7825456061352096 5.089326121046882e-31\n",
      "Duration L6 Time in Zone 0.7103599703596359 2.0502823636121618e-23\n",
      "Duration L7 Time in Zone 0.5327058306812109 6.305601063412324e-12\n",
      "Duration W'bal Matches 0.6213163516152865 9.667008070650346e-17\n",
      "Duration W1 Above CP W'bal Low Fatigue 0.8089707800247417 1.416596577229516e-34\n",
      "Duration W2 Above CP W'bal Moderate Fatigue 0.5810350268274895 2.2623596918931956e-14\n",
      "Duration W1 W'bal Low Fatigue 0.9431101388089269 8.72745412536126e-70\n",
      "Duration W2 W'bal Moderate Fatigue 0.5834134119313623 1.673647142298492e-14\n",
      "Time Moving Time Carrying (Est) 0.7005342736561234 1.474804318236871e-22\n",
      "Time Moving"
     ]
    },
    {
     "name": "stderr",
     "output_type": "stream",
     "text": [
      "/Users/garyhsu/opt/anaconda3/lib/python3.7/site-packages/scipy/stats/stats.py:3508: PearsonRConstantInputWarning: An input array is constant; the correlation coefficent is not defined.\n",
      "  warnings.warn(PearsonRConstantInputWarning())\n"
     ]
    },
    {
     "name": "stdout",
     "output_type": "stream",
     "text": [
      " H1 Time in Zone 0.7143080466880092 9.064935934664492e-24\n",
      "Time Moving H2 Time in Zone 0.8063965330081976 3.32228579662446e-34\n",
      "Time Moving H3 Time in Zone 0.8191448108720802 4.278381417309583e-36\n",
      "Time Moving P1 Time in Pace Zone 0.7118129502212411 1.520760607946746e-23\n",
      "Time Moving P2 Time in Pace Zone 0.7993533473221014 3.210252369978711e-33\n",
      "Time Moving P3 Time in Pace Zone 0.7457438487129454 8.034478788446312e-27\n",
      "Time Moving P4 Time in Pace Zone 0.7407453752908421 2.628456857134396e-26\n",
      "Time Moving P5 Time in Pace Zone 0.8494801448696043 2.913453964366355e-41\n",
      "Time Moving P6 Time in Pace Zone 0.965576298636961 6.232992614669779e-85\n",
      "Time Moving L7 Sustained Time 0.5053507869802107 1.0481722603604264e-10\n",
      "Time Moving L1 Time in Zone 0.9601730023466002 1.6141235858125145e-80\n",
      "Time Moving L2 Time in Zone 0.8977968384371389 1.9898848398209687e-52\n",
      "Time Moving L3 Time in Zone 0.8700739180888364 1.8152046164747007e-45\n",
      "Time Moving L4 Time in Zone 0.8736295067771243 2.8850977630353846e-46\n",
      "Time Moving L5 Time in Zone 0.8399673601220485 1.584331001541259e-39\n",
      "Time Moving L6 Time in Zone 0.769414959336425 1.9666835888890127e-29\n",
      "Time Moving L7 Time in Zone 0.5361152873312347 4.363087671870906e-12\n",
      "Time Moving W'bal Matches 0.6274954313185366 3.900690684192473e-17\n",
      "Time Moving W1 Above CP W'bal Low Fatigue 0.8242505995498038 6.792394451203817e-37\n",
      "Time Moving W2 Above CP W'bal Moderate Fatigue 0.5626327443467036 2.150034814769803e-13\n",
      "Time Moving W1 W'bal Low Fatigue 0.9022776106746542 9.705797371240974e-54\n",
      "Time Moving W2 W'bal Moderate Fatigue 0.5598928210152398 2.9711887733512305e-13\n",
      "Time Carrying (Est) H1 Time in Zone 0.6591605329792664 2.6626662829792657e-19\n",
      "Time Carrying (Est) H2 Time in Zone 0.681945797082292 4.990113665675222e-21\n",
      "Time Carrying (Est) H3 Time in Zone 0.5302970044184632 8.159196737491254e-12\n",
      "Time Carrying (Est) P1 Time in Pace Zone 0.6395947957703556 6.2134240013231395e-18\n",
      "Time Carrying (Est) P2 Time in Pace Zone 0.607502339540763 6.849622312236569e-16\n",
      "Time Carrying (Est) P3 Time in Pace Zone 0.5491070112833897 1.0319126265178317e-12\n",
      "Time Carrying (Est) P4 Time in Pace Zone 0.5533362218944324 6.367000903877789e-13\n",
      "Time Carrying (Est) P5 Time in Pace Zone 0.6448469706829036 2.7280197679496594e-18\n",
      "Time Carrying (Est) P6 Time in Pace Zone 0.6390324497104001 6.779502055237091e-18\n",
      "Time Carrying (Est) L1 Time in Zone 0.7151873161595474 7.544132435506162e-24\n",
      "Time Carrying (Est) L2 Time in Zone 0.5639852107589447 1.8307262029351922e-13\n",
      "Time Carrying (Est) L3 Time in Zone 0.5538227251520674 6.02035080316579e-13\n",
      "Time Carrying (Est) L4 Time in Zone 0.5749902906326328 4.814050284283516e-14\n",
      "Time Carrying (Est) L5 Time in Zone 0.610016046155542 4.830622899060766e-16\n",
      "Time Carrying (Est) L6 Time in Zone 0.5298078642235042 8.59540902347859e-12\n",
      "Time Carrying (Est) W1 Above CP W'bal Low Fatigue 0.7501852645653407 2.737772212862151e-27\n",
      "Time Carrying (Est) W1 W'bal Low Fatigue 0.733347405198252 1.4460988552286506e-25\n",
      "Max Power Max Power Variance 0.9226464172055711 1.2544128154899823e-60\n",
      "Max Power 1 sec Peak Power 0.9999999999999999 0.0\n",
      "Max Power L7 Sustained Time 0.5201183443018375 2.3711612987364883e-11\n",
      "Max Power L7 Time in Zone 0.636960686150174 9.333228623702301e-18\n",
      "Max Power W'bal Matches 0.6779493622857581 1.028657135870926e-20\n",
      "Max Power W2 Above CP W'bal Moderate Fatigue 0.558994116609111 3.3016422543837916e-13\n",
      "Max Power W2 W'bal Moderate Fatigue 0.5990113326005027 2.1787170504131018e-15\n",
      "Max Heartrate H4 Time in Zone 0.5229699583606963 1.7648579761307524e-11\n",
      "Max Heartrate H5 Time in Zone 0.5804202013043598 2.4447083382378243e-14\n",
      "Max Cadence Max Running Cadence 1.0 0.0\n",
      "Max Temp P5 Time in Pace Zone 0.5111104060736096 5.920541478055624e-11\n",
      "Max Temp L1 Time in Zone 0.528873118117038 9.49272855978886e-12\n",
      "Max Temp W1 W'bal Low Fatigue 0.517031603166747 3.25425017542262e-11\n",
      "Max Power Variance 1 sec Peak Power 0.9226464172055711 1.2544128154899823e-60\n",
      "Max Power Variance L7 Sustained Time 0.5043046521122966 1.1614375184829039e-10\n",
      "Max Power Variance L7 Time in Zone 0.6094098049458097 5.2565807351396325e-16\n",
      "Max Power Variance W'bal Matches 0.6340597299386455 1.4543580099784043e-17\n",
      "Max Power Variance W2 W'bal Moderate Fatigue 0.5219394534417169 1.964239196141852e-11\n",
      "H1 Time in Zone H2 Time in Zone 0.6369486038827404 9.350578457463237e-18\n",
      "H1 Time in Zone P1 Time in Pace Zone 0.6354097788251012 1.1837899707946451e-17\n",
      "H1 Time in Zone P2 Time in Pace Zone 0.7062567954150432 4.720155743976547e-23\n",
      "H1 Time in Zone P3 Time in Pace Zone 0.645788547307683 2.3497545201538368e-18\n",
      "H1 Time in Zone P4 Time in Pace Zone 0.6427749395075038 3.781873698353982e-18\n",
      "H1 Time in Zone P5 Time in Pace Zone 0.762558638871521 1.205895891605588e-28\n",
      "H1 Time in Zone P6 Time in Pace Zone 0.6238720784487923 6.657760824343338e-17\n",
      "H1 Time in Zone L1 Time in Zone 0.7967357467767004 7.289688647024837e-33\n",
      "H1 Time in Zone L2 Time in Zone 0.611625771908622 3.856320563570863e-16\n",
      "H1 Time in Zone L3 Time in Zone 0.5291742541067439 9.194170601127426e-12\n",
      "H1 Time in Zone L4 Time in Zone 0.5137005723421701 4.5633233117697675e-11\n",
      "H1 Time in Zone W1 Above CP W'bal Low Fatigue 0.6680871499384073 5.844835218055954e-20\n",
      "H1 Time in Zone W1 W'bal Low Fatigue 0.7746141812290378 4.765690119703052e-30\n",
      "H2 Time in Zone H3 Time in Zone 0.5515377939005925 7.82476197555559e-13\n",
      "H2 Time in Zone P1 Time in Pace Zone 0.6515365172448256 9.339457457343486e-19\n",
      "H2 Time in Zone P2 Time in Pace Zone 0.6710005745675884 3.522841797969987e-20\n",
      "H2 Time in Zone P3 Time in Pace Zone 0.6521465393467349 8.458398397604833e-19\n",
      "H2 Time in Zone P4 Time in Pace Zone 0.6321782012919904 1.9343260716715353e-17\n",
      "H2 Time in Zone P5 Time in Pace Zone 0.7752053426543624 4.046591014910786e-30\n",
      "H2 Time in Zone P6 Time in Pace Zone 0.7460496100068319 7.465874082001162e-27\n",
      "H2 Time in Zone L1 Time in Zone 0.8307317763953307 6.01779709628828e-38\n",
      "H2 Time in Zone L2 Time in Zone 0.7858190108081442 1.9668160444975994e-31\n",
      "H2 Time in Zone L3 Time in Zone 0.7015968978489333 1.1960433726699697e-22\n",
      "H2 Time in Zone L4 Time in Zone 0.642900186755369 3.708198304190307e-18\n",
      "H2 Time in Zone L5 Time in Zone 0.5902734523581958 6.9197063690898246e-15\n",
      "H2 Time in Zone W1 Above CP W'bal Low Fatigue 0.8073828992797254 2.400221073072944e-34\n",
      "H2 Time in Zone W1 W'bal Low Fatigue 0.8438927780793978 3.1462850564227368e-40\n",
      "H3 Time in Zone H4 Time in Zone 0.5282461520602133 1.0144772399197546e-11\n",
      "H3 Time in Zone P1 Time in Pace Zone 0.5584083417228931 3.535967973281463e-13\n",
      "H3 Time in Zone P2 Time in Pace Zone 0.596281126093823 3.1379946729742745e-15\n",
      "H3 Time in Zone P3 Time in Pace Zone 0.5659641540683817 1.4450611756706128e-13\n",
      "H3 Time in Zone P4 Time in Pace Zone 0.5590854940967416 3.2664763215606006e-13\n",
      "H3 Time in Zone P5 Time in Pace Zone 0.6069554703909439 7.387280628077245e-16\n",
      "H3 Time in Zone P6 Time in Pace Zone 0.8165041586172621 1.083487433760515e-35\n",
      "H3 Time in Zone L6 Sustained Time 0.5147382273309359 4.1087740422259803e-11\n",
      "H3 Time in Zone L1 Time in Zone 0.7138305608915785 1.0012676012837797e-23\n",
      "H3 Time in Zone L2 Time in Zone 0.7701793890259636 1.6004375134742029e-29\n",
      "H3 Time in Zone L3 Time in Zone 0.7689168931490677 2.2483314966407365e-29\n",
      "H3 Time in Zone L4 Time in Zone 0.7671340017758979 3.620268404392395e-29\n",
      "H3 Time in Zone L5 Time in Zone 0.7724004010028257 8.754657686855975e-30\n",
      "H3 Time in Zone L6 Time in Zone 0.7473939873601613 5.3998390796913466e-27\n",
      "H3 Time in Zone L7 Time in Zone 0.511201012877045 5.867077011294819e-11\n",
      "H3 Time in Zone W'bal Matches 0.5834181017790347 1.6726486965101223e-14\n",
      "H3 Time in Zone W1 Above CP W'bal Low Fatigue 0.6753355265980228 1.6408979940798487e-20\n",
      "H3 Time in Zone W1 W'bal Low Fatigue 0.673326977618476 2.3416441512570628e-20\n",
      "H4 Time in Zone H5 Time in Zone 0.5701368118565588 8.729881201211874e-14\n",
      "H4 Time in Zone P6 Time in Pace Zone 0.544046990504907 1.822697491165657e-12\n",
      "H4 Time in Zone L6 Sustained Time 0.5295916877037736 8.795318812202879e-12\n",
      "H4 Time in Zone L4 Time in Zone 0.5476186997717603 1.2210813445751834e-12\n",
      "H4 Time in Zone L5 Time in Zone 0.5352086118004276 4.813928854289091e-12\n",
      "H4 Time in Zone L6 Time in Zone 0.5786161840727304 3.0662106727620874e-14\n",
      "H4 Time in Zone L7 Time in Zone 0.578915758649868 2.953300689659437e-14\n",
      "H4 Time in Zone W'bal Matches 0.6327946792053729 1.7621432945039332e-17\n",
      "H4 Time in Zone W2 Above CP W'bal Moderate Fatigue 0.5669240500208494 1.2876757704392864e-13\n",
      "H4 Time in Zone W3 Above CP W'bal Heavy Fatigue 0.567255586079382 1.2372914856664366e-13\n",
      "H4 Time in Zone W2 W'bal Moderate Fatigue 0.5650144628810758 1.6191042288508868e-13\n",
      "H4 Time in Zone W3 W'bal Heavy Fatigue 0.5623862856048449 2.2137829970587092e-13\n",
      "P1 Time in Pace Zone P2 Time in Pace Zone 0.7436059833397386 1.33836843645389e-26\n",
      "P1 Time in Pace Zone P3 Time in Pace Zone 0.7028156043800036 9.395061695899294e-23\n",
      "P1 Time in Pace Zone P4 Time in Pace Zone 0.6964609235360399 3.264676681617763e-22\n",
      "P1 Time in Pace Zone P5 Time in Pace Zone 0.7198492565597309 2.816191511849447e-24\n",
      "P1 Time in Pace Zone P6 Time in Pace Zone 0.5508114109169618 8.501260200958873e-13\n",
      "P1 Time in Pace Zone L1 Time in Zone 0.7206470744504774 2.374415999937297e-24\n",
      "P1 Time in Pace Zone L2 Time in Zone 0.6668339545157516 7.254248210891078e-20\n",
      "P1 Time in Pace Zone L3 Time in Zone 0.5973730836440716 2.713057716365321e-15\n",
      "P1 Time in Pace Zone L4 Time in Zone 0.5588281477449748 3.3664570878722767e-13\n",
      "P1 Time in Pace Zone L5 Time in Zone 0.5536947975795079 6.109685032117398e-13\n",
      "P1 Time in Pace Zone L6 Time in Zone 0.510612281396057 6.222995944566214e-11\n",
      "P1 Time in Pace Zone W1 Above CP W'bal Low Fatigue 0.6271887474490527 4.082363309231071e-17\n",
      "P1 Time in Pace Zone W1 W'bal Low Fatigue 0.6971290890199803 2.8683177618504294e-22\n",
      "P2 Time in Pace Zone P3 Time in Pace Zone 0.9082430588332941 1.3757745610747854e-55\n",
      "P2 Time in Pace Zone P4 Time in Pace Zone 0.9065822155579596 4.630363411897684e-55\n",
      "P2 Time in Pace Zone P5 Time in Pace Zone 0.8932761672355655 3.647852001909193e-51\n",
      "P2 Time in Pace Zone P6 Time in Pace Zone 0.6478942319733058 1.679685899757288e-18\n",
      "P2 Time in Pace Zone L1 Time in Zone 0.8062251460428487 3.5146827078655237e-34\n",
      "P2 Time in Pace Zone L2 Time in Zone 0.6510485599005489 1.0108189617972328e-18\n",
      "P2 Time in Pace Zone L3 Time in Zone 0.6553516682532416 5.006748451219936e-19\n",
      "P2 Time in Pace Zone L4 Time in Zone 0.6854746158704781 2.6093518136934e-21\n",
      "P2 Time in Pace Zone L5 Time in Zone 0.6868134430221418 2.0354429871464504e-21\n",
      "P2 Time in Pace Zone L6 Time in Zone 0.614129059589511 2.7097407231409157e-16\n",
      "P2 Time in Pace Zone W1 Above CP W'bal Low Fatigue 0.7143735752631409 8.941929188066219e-24\n",
      "P2 Time in Pace Zone W1 W'bal Low Fatigue 0.7402845817168758 2.927909753746244e-26\n",
      "P3 Time in Pace Zone P4 Time in Pace Zone 0.9666864306893952 6.321656974273561e-86\n",
      "P3 Time in Pace Zone P5 Time in Pace Zone 0.9018389712638131 1.3128787302705306e-53\n",
      "P3 Time in Pace Zone P6 Time in Pace Zone 0.5740673044841558 5.395062340403108e-14\n",
      "P3 Time in Pace Zone L1 Time in Zone 0.7436567153370228 1.3223369011450236e-26\n",
      "P3 Time in Pace Zone L2 Time in Zone 0.6034733427837131 1.1911863536964285e-15\n",
      "P3 Time in Pace Zone L3 Time in Zone 0.6494685129344939 1.3045999580806054e-18\n",
      "P3 Time in Pace Zone L4 Time in Zone 0.6789985981343536 8.516676994081897e-21\n",
      "P3 Time in Pace Zone L5 Time in Zone 0.6890573026693447 1.3383127001839356e-21\n",
      "P3 Time in Pace Zone L6 Time in Zone 0.5774586954087588 3.543267051537831e-14\n",
      "P3 Time in Pace Zone W1 Above CP W'bal Low Fatigue 0.7231628757568547 1.3809643921101702e-24\n",
      "P3 Time in Pace Zone W1 W'bal Low Fatigue 0.6893611895352751 1.2640630257918641e-21\n",
      "P4 Time in Pace Zone P5 Time in Pace Zone 0.9300766377192569 1.258983799241232e-63\n",
      "P4 Time in Pace Zone P6 Time in Pace Zone 0.5635423859283224 1.9298317042104621e-13\n",
      "P4 Time in Pace Zone L1 Time in Zone 0.7403061138025326 2.913200373470582e-26\n",
      "P4 Time in Pace Zone L2 Time in Zone 0.5938565154141853 4.326296095973701e-15\n",
      "P4 Time in Pace Zone L3 Time in Zone 0.6456637167130894 2.3967888745938338e-18\n",
      "P4 Time in Pace Zone L4 Time in Zone 0.6788260131894048 8.785803264721182e-21\n",
      "P4 Time in Pace Zone L5 Time in Zone 0.6871259483068288 1.9204183606633843e-21\n",
      "P4 Time in Pace Zone L6 Time in Zone 0.5790931789166052 2.888349031030784e-14\n",
      "P4 Time in Pace Zone W1 Above CP W'bal Low Fatigue 0.7146792438630363 8.389409524529126e-24\n",
      "P4 Time in Pace Zone W1 W'bal Low Fatigue 0.6742881946764292 1.975892872486826e-20\n",
      "P5 Time in Pace Zone P6 Time in Pace Zone 0.7087086515148882 2.872842081236161e-23\n",
      "P5 Time in Pace Zone L1 Time in Zone 0.8737047833987182 2.7732520538916988e-46\n",
      "P5 Time in Pace Zone L2 Time in Zone 0.7260617579550495 7.3405993031445255e-25\n",
      "P5 Time in Pace Zone L3 Time in Zone 0.7207678300676691 2.3137583638293196e-24\n",
      "P5 Time in Pace Zone L4 Time in Zone 0.7287761814837079 4.03219854834735e-25\n",
      "P5 Time in Pace Zone L5 Time in Zone 0.7069987643587294 4.0638114147584814e-23\n",
      "P5 Time in Pace Zone L6 Time in Zone 0.5948074797838907 3.8155402072539e-15\n",
      "P5 Time in Pace Zone W1 Above CP W'bal Low Fatigue 0.8094020324016215 1.2265365281003282e-34\n",
      "P5 Time in Pace Zone W1 W'bal Low Fatigue 0.8267956832372765 2.654024162582724e-37\n",
      "P6 Time in Pace Zone L7 Sustained Time 0.5054845074489701 1.0344882411902529e-10\n",
      "P6 Time in Pace Zone L1 Time in Zone 0.907067951820588 3.2545672874399088e-55\n",
      "P6 Time in Pace Zone L2 Time in Zone 0.88040098259757 7.41180118949695e-48\n",
      "P6 Time in Pace Zone L3 Time in Zone 0.8476584766244804 6.395525269065287e-41\n",
      "P6 Time in Pace Zone L4 Time in Zone 0.8519283005337633 9.961581757381055e-42\n",
      "P6 Time in Pace Zone L5 Time in Zone 0.8088695471933525 1.4652438843805698e-34\n",
      "P6 Time in Pace Zone L6 Time in Zone 0.7557634583196977 6.855694725122793e-28\n",
      "P6 Time in Pace Zone L7 Time in Zone 0.5832770900442611 1.702924200710946e-14\n",
      "P6 Time in Pace Zone W'bal Matches 0.6670914761178542 6.939851145613299e-20\n",
      "P6 Time in Pace Zone W1 Above CP W'bal Low Fatigue 0.7560901662746955 6.314381476020986e-28\n",
      "P6 Time in Pace Zone W2 Above CP W'bal Moderate Fatigue 0.6073900914799227 6.956773220152747e-16\n",
      "P6 Time in Pace Zone W1 W'bal Low Fatigue 0.8516550506037779 1.1239965258243905e-41\n",
      "P6 Time in Pace Zone W2 W'bal Moderate Fatigue 0.6144361771728375 2.5943766274827815e-16\n"
     ]
    },
    {
     "name": "stdout",
     "output_type": "stream",
     "text": [
      "1 sec Peak Power L7 Sustained Time 0.5201183443018375 2.3711612987364883e-11\n",
      "1 sec Peak Power L7 Time in Zone 0.636960686150174 9.333228623702301e-18\n",
      "1 sec Peak Power W'bal Matches 0.6779493622857581 1.028657135870926e-20\n",
      "1 sec Peak Power W2 Above CP W'bal Moderate Fatigue 0.558994116609111 3.3016422543837916e-13\n",
      "1 sec Peak Power W2 W'bal Moderate Fatigue 0.5990113326005027 2.1787170504131018e-15\n",
      "L4 Sustained Time L6 Sustained Time 0.5528063038615998 6.766638308516743e-13\n",
      "L4 Sustained Time W3 Above CP W'bal Heavy Fatigue 0.574732631961246 4.969818706074999e-14\n",
      "L4 Sustained Time W4 Above CP W'bal Severe Fatigue 0.6110492716838896 4.1809351188238163e-16\n",
      "L4 Sustained Time W3 W'bal Heavy Fatigue 0.5516722340657014 7.705421677184789e-13\n",
      "L4 Sustained Time W4 W'bal Severe Fatigue 0.6477970879521882 1.7060013144038977e-18\n",
      "L5 Sustained Time L6 Sustained Time 0.6934711622821174 5.800889522368726e-22\n",
      "L5 Sustained Time L4 Time in Zone 0.5164828554744267 3.4415099000992485e-11\n",
      "L5 Sustained Time L5 Time in Zone 0.7020276862365307 1.0983636781972304e-22\n",
      "L5 Sustained Time L6 Time in Zone 0.7042625358168872 7.04247298224492e-23\n",
      "L5 Sustained Time W'bal Matches 0.5377601910372682 3.647463297213855e-12\n",
      "L5 Sustained Time W4 Above CP W'bal Severe Fatigue 0.6383984748533965 7.478149927342243e-18\n",
      "L5 Sustained Time W4 W'bal Severe Fatigue 0.6316977350173674 2.0798041370324207e-17\n",
      "L6 Sustained Time L7 Sustained Time 0.7176740012379861 4.471090344130611e-24\n",
      "L6 Sustained Time L5 Time in Zone 0.6384813574018771 7.382967807268129e-18\n",
      "L6 Sustained Time L6 Time in Zone 0.8714951727405646 8.75982271201039e-46\n",
      "L6 Sustained Time L7 Time in Zone 0.8311547348300697 5.119161721692081e-38\n",
      "L6 Sustained Time W'bal Matches 0.8099623960181244 1.0165882099979991e-34\n",
      "L6 Sustained Time W3 Above CP W'bal Heavy Fatigue 0.6210569862616873 1.0037974699490503e-16\n",
      "L6 Sustained Time W4 Above CP W'bal Severe Fatigue 0.8755849372463169 1.0244915860649106e-46\n",
      "L6 Sustained Time W3 W'bal Heavy Fatigue 0.5718576505368745 7.07686341506502e-14\n",
      "L6 Sustained Time W4 W'bal Severe Fatigue 0.8703657486874965 1.564073092165101e-45\n",
      "L7 Sustained Time L6 Time in Zone 0.701002942437263 1.3447882459913442e-22\n",
      "L7 Sustained Time L7 Time in Zone 0.9135553251473982 2.4145084545604757e-57\n",
      "L7 Sustained Time W'bal Matches 0.8133043212994302 3.2749166617032175e-35\n",
      "L7 Sustained Time W4 Above CP W'bal Severe Fatigue 0.6554359858630081 4.937732725365183e-19\n",
      "L7 Sustained Time W4 W'bal Severe Fatigue 0.6480818660625796 1.6299752755922499e-18\n",
      "L1 Time in Zone L2 Time in Zone 0.861268787524446 1.3793088713846384e-43\n",
      "L1 Time in Zone L3 Time in Zone 0.7700130378424804 1.673954858473586e-29\n",
      "L1 Time in Zone L4 Time in Zone 0.7465178542831613 6.670764673164262e-27\n",
      "L1 Time in Zone L5 Time in Zone 0.7046911304320922 6.464010135000879e-23\n",
      "L1 Time in Zone L6 Time in Zone 0.6284466451055468 3.385967500876425e-17\n",
      "L1 Time in Zone W1 Above CP W'bal Low Fatigue 0.8415894737888476 8.166848479804735e-40\n",
      "L1 Time in Zone W1 W'bal Low Fatigue 0.952560089142476 3.054631978459086e-75\n",
      "L2 Time in Zone L3 Time in Zone 0.8747488714680058 1.5983958239233147e-46\n",
      "L2 Time in Zone L4 Time in Zone 0.7606377874866393 1.9824467241388282e-28\n",
      "L2 Time in Zone L5 Time in Zone 0.6712436915570485 3.3762316061063976e-20\n",
      "L2 Time in Zone L6 Time in Zone 0.5248100426470597 1.4565199690745192e-11\n",
      "L2 Time in Zone W1 Above CP W'bal Low Fatigue 0.7486457112085239 3.986370842096935e-27\n",
      "L2 Time in Zone W1 W'bal Low Fatigue 0.8617332575891814 1.1059039923316486e-43\n",
      "L3 Time in Zone L4 Time in Zone 0.9305403933036548 7.980431070388236e-64\n",
      "L3 Time in Zone L5 Time in Zone 0.7505431105251125 2.5078300666820545e-27\n",
      "L3 Time in Zone L6 Time in Zone 0.5821099704232299 1.9748413052171574e-14\n",
      "L3 Time in Zone W1 Above CP W'bal Low Fatigue 0.7384261288713082 4.5137408683320366e-26\n",
      "L3 Time in Zone W1 W'bal Low Fatigue 0.7806223540829635 8.829486029579184e-31\n",
      "L4 Time in Zone L5 Time in Zone 0.8854823036845008 4.0923640667259455e-49\n",
      "L4 Time in Zone L6 Time in Zone 0.744667799907631 1.0393934100800418e-26\n",
      "L4 Time in Zone W'bal Matches 0.5493697912070381 1.001609462364405e-12\n",
      "L4 Time in Zone W1 Above CP W'bal Low Fatigue 0.7293355425988952 3.560689570247697e-25\n",
      "L4 Time in Zone W2 Above CP W'bal Moderate Fatigue 0.5218741812044069 1.977577230325399e-11\n",
      "L4 Time in Zone W1 W'bal Low Fatigue 0.7202503449838662 2.584872769980179e-24\n",
      "L5 Time in Zone L6 Time in Zone 0.8820873007519433 2.8766578866927386e-48\n",
      "L5 Time in Zone L7 Time in Zone 0.5612164180721219 2.5422952520999245e-13\n",
      "L5 Time in Zone W'bal Matches 0.6987693078485052 2.0843893175951768e-22\n",
      "L5 Time in Zone W1 Above CP W'bal Low Fatigue 0.7132378386937472 1.1324928953715266e-23\n",
      "L5 Time in Zone W2 Above CP W'bal Moderate Fatigue 0.6196139513647733 1.2369689515467714e-16\n",
      "L5 Time in Zone W1 W'bal Low Fatigue 0.6330052817042786 1.706823614688631e-17\n",
      "L5 Time in Zone W2 W'bal Moderate Fatigue 0.5733517645928484 5.891878968501438e-14\n",
      "L6 Time in Zone L7 Time in Zone 0.7921942721868296 2.9407095019422927e-32\n",
      "L6 Time in Zone W'bal Matches 0.841165151464534 9.719602042435598e-40\n",
      "L6 Time in Zone W1 Above CP W'bal Low Fatigue 0.5377074793574734 3.6685183550855214e-12\n",
      "L6 Time in Zone W2 Above CP W'bal Moderate Fatigue 0.583203112472822 1.7190199258968497e-14\n",
      "L6 Time in Zone W3 Above CP W'bal Heavy Fatigue 0.540428472168569 2.7219718805990178e-12\n",
      "L6 Time in Zone W4 Above CP W'bal Severe Fatigue 0.6600852236083179 2.2810701349216416e-19\n",
      "L6 Time in Zone W2 W'bal Moderate Fatigue 0.5516600298313603 7.716181824183789e-13\n",
      "L6 Time in Zone W4 W'bal Severe Fatigue 0.6399722208279145 5.8596583766582486e-18\n",
      "L7 Time in Zone W'bal Matches 0.9350900191572139 7.649694923596154e-66\n",
      "L7 Time in Zone W2 Above CP W'bal Moderate Fatigue 0.5572759933707955 4.0355920697838266e-13\n",
      "L7 Time in Zone W3 Above CP W'bal Heavy Fatigue 0.6698761330297263 4.2859818233275636e-20\n",
      "L7 Time in Zone W4 Above CP W'bal Severe Fatigue 0.7032598230502223 8.601029306742099e-23\n",
      "L7 Time in Zone W2 W'bal Moderate Fatigue 0.5725473142880566 6.503609225167551e-14\n",
      "L7 Time in Zone W3 W'bal Heavy Fatigue 0.6577766941975325 3.352830431709838e-19\n",
      "L7 Time in Zone W4 W'bal Severe Fatigue 0.714417925512207 8.859606522813862e-24\n",
      "W'bal Matches W2 Above CP W'bal Moderate Fatigue 0.6862947072369616 2.2414234788745757e-21\n",
      "W'bal Matches W3 Above CP W'bal Heavy Fatigue 0.6964063263774938 3.2993367276525956e-22\n",
      "W'bal Matches W4 Above CP W'bal Severe Fatigue 0.5739611898917023 5.466078784543773e-14\n",
      "W'bal Matches W2 W'bal Moderate Fatigue 0.6868508206496726 2.021338202405613e-21\n",
      "W'bal Matches W3 W'bal Heavy Fatigue 0.6768997527557464 1.241542906211862e-20\n",
      "W'bal Matches W4 W'bal Severe Fatigue 0.5897756531405461 7.382898724538528e-15\n",
      "W1 Above CP W'bal Low Fatigue W1 W'bal Low Fatigue 0.8747905214228181 1.5634851964558187e-46\n",
      "W2 Above CP W'bal Moderate Fatigue W2 W'bal Moderate Fatigue 0.9892771874112236 1.545015543987321e-120\n",
      "W3 Above CP W'bal Heavy Fatigue W3 W'bal Heavy Fatigue 0.9914142496471554 2.3305274967242725e-127\n",
      "W4 Above CP W'bal Severe Fatigue W4 W'bal Severe Fatigue 0.9952232393225879 2.2128663328820654e-145\n"
     ]
    }
   ],
   "source": [
    "for i in range(0,len(df.columns)):\n",
    "    for j in range(i+1,len(df.columns)):\n",
    "        col_i_name=df.columns[i]\n",
    "        col_j_name=df.columns[j]\n",
    "        \n",
    "        if df[col_i_name].dtype !='int64':\n",
    "            continue\n",
    "            \n",
    "        if df[col_j_name].dtype !='int64':\n",
    "            continue\n",
    "        \n",
    "        r,p=pearsonr(df[col_i_name],df[col_j_name])\n",
    "        \n",
    "        if r >0.5:\n",
    "            print(col_i_name,col_j_name,r,p)\n",
    "        "
   ]
  },
  {
   "cell_type": "markdown",
   "metadata": {},
   "source": [
    "In this list, I pick up several combinations that the high correaltion columns with kudos."
   ]
  },
  {
   "cell_type": "code",
   "execution_count": 28,
   "metadata": {},
   "outputs": [
    {
     "data": {
      "text/plain": [
       "<matplotlib.axes._subplots.AxesSubplot at 0x1a252e7cd0>"
      ]
     },
     "execution_count": 28,
     "metadata": {},
     "output_type": "execute_result"
    },
    {
     "data": {
      "image/png": "[encoded data removed]",
      "text/plain": [
       "<Figure size 1440x720 with 2 Axes>"
      ]
     },
     "metadata": {
      "needs_background": "light"
     },
     "output_type": "display_data"
    }
   ],
   "source": [
    "df_new_heatmap=df[['kudos','Duration','Max Power','moving_time','1 sec Peak Power','Max Power Variance','H3 Time in Zone','elevation_gain']]\n",
    "sns.heatmap(df_new_heatmap.corr(),annot=True,cmap=\"YlGnBu\")"
   ]
  },
  {
   "cell_type": "markdown",
   "metadata": {},
   "source": [
    "In this graph, there are several points in here:\n",
    "    \n",
    "1.The more duration, and the rider have the high opportunity to get more kudos.\n",
    "\n",
    "2.The more moving_time, and the rider have the high opportunity to get more kudos.\n",
    "\n",
    "3.The more moving_time, and it needs more duration in this ride.\n",
    "\n",
    "4.The more duration, and the higher H3 Time in Zone the rider has.\n",
    "\n",
    "5.The more duration, and it needs more elevation_gain in this ride.\n",
    "\n",
    "6.The more moving_time, and the higher H3 Time in Zone the rider has.\n",
    "\n",
    "7.The more moving_time, and it needs more elevation_gain in this ride.\n",
    "\n",
    "8.The more max power variance, and it can creat the max speed in 1 second.\n",
    "\n",
    "9.The more H3 time in zone, and it needs more elevation_gain in this ride."
   ]
  },
  {
   "cell_type": "markdown",
   "metadata": {},
   "source": [
    "In this heatmap, we can know that the more distance kudos,Duration,Max Power,moving_time,1 sec Peak Power,Max Power Variance,H3 Time in Zone, and elevation_gain, the more kudos we can get."
   ]
  },
  {
   "cell_type": "markdown",
   "metadata": {},
   "source": [
    "# Generate the number of activities in each month."
   ]
  },
  {
   "cell_type": "code",
   "execution_count": 29,
   "metadata": {},
   "outputs": [
    {
     "data": {
      "image/png": "[encoded data removed]",
      "text/plain": [
       "<Figure size 1440x720 with 1 Axes>"
      ]
     },
     "metadata": {
      "needs_background": "light"
     },
     "output_type": "display_data"
    }
   ],
   "source": [
    "ax = x_distance_in_moonth.distance.plot.bar(rot=0)"
   ]
  },
  {
   "cell_type": "markdown",
   "metadata": {},
   "source": [
    "The man attent more and more activities from Feb to May, and he decreased the number of activities in the second haif of year."
   ]
  }
 ],
 "metadata": {
  "kernelspec": {
   "display_name": "Python 3",
   "language": "python",
   "name": "python3"
  },
  "language_info": {
   "codemirror_mode": {
    "name": "ipython",
    "version": 3
   },
   "file_extension": ".py",
   "mimetype": "text/x-python",
   "name": "python",
   "nbconvert_exporter": "python",
   "pygments_lexer": "ipython3",
   "version": "3.7.6"
  }
 },
 "nbformat": 4,
 "nbformat_minor": 2
}
